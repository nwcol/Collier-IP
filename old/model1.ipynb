import random
import statistics
import matplotlib.pyplot as plt

#defines the biases for mating. left as 0, mating should be completely random.
c11, c1h, c12 = 0.1, -0.05, -0.05
ch1, chh, ch2 = 0, 0, 0
c21, c2h, c22 = 0, 0, 0

def new_population(n1f, n1m, n2f, n2m):
    '''generates gen_0 based on the input size parameters'''
    gen_0 = []
    for x in range(n1f):
        gen_0.append([0, 1])
    for x in range(n1m):
        gen_0.append([1, 1])
    for x in range(n2f):
        gen_0.append([0, 0])
    for x in range(n2m):
        gen_0.append([1, 0])
    return(gen_0)

def breakdown(gen_gminus1):
    '''breaks generation g-1 into lists based on type and sex'''
    #creates empty lists to hold individuals
    S1f, S1m, Hf, Hm, S2f, S2m = [], [], [], [], [], []
    #x is an individual, eg. a list. x[0] is sex and x[1] is ancestry
    for x in gen_gminus1:
        if x[0] == 0:
            if x[1] == 1:
                S1f.append(x)
            elif x[1] == 0:
                S2f.append(x)
            else:
                Hf.append(x)
        elif x[0] == 1:
            if x[1] == 1:
                S1m.append(x)
            elif x[1] == 0:
                S2m.append(x)
            else:
                Hm.append(x)
    return(S1f, Hf, S2f, S1m, Hm, S2m)

def findprobs(S1f, Hf, S2f, S1m, Hm, S2m):
    '''calculates the probabilities of any particular mating in population g'''
    #tallies the total populations of each sex and the fractions for each type subpopulation
    nf = len(S1f) + len(Hf) + len(S2f)
    nm = len(S1m) + len(Hm) +len(S2m)
    s1f = len(S1f)/nf
    hf = len(Hf)/nf
    s2f = len(S2f)/nf
    s1m = len(S1m)/nm
    hm = len(Hm)/nm
    s2m = len(S2m)/nm
    #calculates probabilities using the above fractions and c values
    P11 = s1f * s1m + c11
    P1h = s1f * hm + c1h
    P12 = s1f * s2m + c12
    Ph1 = hf * s1m + ch1
    Phh = hf * hm + chh
    Ph2 = hf * s2m + ch2
    P21 = s2f * s1m + c21
    P2h = s2f * hm + c2h
    P22 = s2f * s2m + c22

    return(P11, P1h, P12, Ph1, Phh, Ph2, P21, P2h, P22)
    
def mate(gen_gminus1):
    '''creates generation g from generation g-1'''
    S1f, Hf, S2f, S1m, Hm, S2m = breakdown(gen_gminus1)
    P11, P1h, P12, Ph1, Phh, Ph2, P21, P2h, P22 = findprobs(S1f, Hf, S2f, S1m, Hm, S2m)
    #find size of gen_gminus1
    n = len(gen_gminus1)
    #all possible matings
    matings = ['11', '1h', '12', 'h1', 'hh', 'h2', '21', '2h', '22']
    #initialize the new generation gen_g
    gen_g = []
    for x in range(n):
        [selection] = random.choices(matings, weights = (P11, P1h, P12, Ph1, Phh, Ph2, P21, P2h, P22))
        if selection == '11':
            #mating between two S1 individuals will produce another S1 individual of random sex
            offspring = [random.randint(0, 1), 1]
            gen_g.append(offspring)
        elif selection == '1h':
            #mating between a 1 and H individual is more nuanced. A random H individual is selected 
            #and the ancestry of the offspring is calculated as the average of 1 (S2 individual) and
            #the ancestry of the random H individual, or hybrid_father[1]. sex is random
            hybrid_father = random.choice(Hm)
            offspring = [random.randint(0, 1), ((1 + hybrid_father[1])/2)]
            gen_g.append(offspring)
        elif selection == '12':
            #mating between an S1 and S2 individual will produce an individual with ancestry 0.5
            offspring = [random.randint(0, 1), 0.5]
            gen_g.append(offspring)
        elif selection == 'h1':
            #mating between an H and S1 individual will produce an offspring with ancestry 1 + (H ancestry) / 2
            hybrid_mother = random.choice(Hf)
            offspring = [random.randint(0, 1), ((hybrid_mother[1] + 1)/2)]
        elif selection == 'hh':
            #mating between two H individuals will produce an offspring with the avg of their ancestries
            hybrid_mother = random.choice(Hf)
            hybrid_father = random.choice(Hm)
            offspring = [random.randint(0, 1), ((hybrid_mother[1] + hybrid_father[1])/2)]
            gen_g.append(offspring)
        elif selection == 'h2':
            #mating between H and S2 individual will produce an offspring with ancestry (H ancestry) + 0 / 2
            hybrid_mother = random.choice(Hf)
            offspring = [random.randint(0, 1), ((hybrid_mother[1])/2)]
        elif selection == '21':
            #mating between an S1 and S2 individual will produce an individual with ancestry 0.5
            offspring = [random.randint(0, 1), 0.5]
            gen_g.append(offspring)
        elif selection == '2h':
            #mating between S2 and H individual will produce offspring with ancestry 0 + (H ancestry) / 2
            hybrid_father = random.choice(Hm)
            offspring = [random.randint(0, 1), ((hybrid_father[1])/2)]
            gen_g.append(offspring)
        elif selection == '22':
            #mating between two S2 individuals will produce another S2 individual of random sex
            offspring = [random.randint(0, 1), 0]
            gen_g.append(offspring)
        else:
            #this should not occur
            pass
    return(gen_g)

def generations(g, n1f, n1m, n2f, n2m):
    '''calls the new_population and mate functions to produce a list, 
        gens, containing g generations'''
    #initialize gens and append the zeroth generation to it
    gens = []
    gen_0 = new_population(n1f, n1m, n2f, n2m)
    gens.append(gen_0)
    gen_gminus1 = gen_0
    for x in range(g):
        gen_g = mate(gen_gminus1)
        gens.append(gen_g)
        gen_gminus1 = gen_g
    return(gens)
    
def find_var(gens):
    '''produces a list of variances of S1'''
    var = []
    for x in (gens):
        ancestries = []
        #each x is a generation list
        for z in x:
            #each z is an individual and z[1] is its ancestry fraction
            ancestries.append(z[1])
        #var_x records the variance of the generation
        var_x = statistics.variance(ancestries)
        var.append(var_x)
    return(var)

def sex_fractions(gens):
    '''measures sex counts over time in gens to study imbalance in the simulation'''
    #these will be complete lists of sex counts
    females = []
    males = []
    for x in gens:
        #x is a generation
        female_tally = 0
        male_tally = 0
        for z in x:
            #z is an individual
            if z[0] == 0:
                female_tally = female_tally + 1
            if z[0] == 1:
                male_tally = male_tally + 1
        females.append(female_tally)
        males.append(male_tally)
    return(females, males)

def sort_pops(gens):
    '''records the numbers of each type of individual in each generation'''
    S1f_tallies, Hf_tallies, S2f_tallies, S1m_tallies, Hm_tallies, S2m_tallies = [], [], [], [], [], []
    for x in gens:
        S1f_tally, Hf_tally, S2f_tally, S1m_tally, Hm_tally, S2m_tally = 0, 0, 0, 0, 0, 0
        #x is a generation
        for z in x:
            #z is an individual
            if z[0] == 0:
                if z[1] == 1:
                    S1f_tally = S1f_tally + 1
                elif z[1] == 0:
                    S2f_tally = S2f_tally + 1
                else:
                    Hf_tally = Hf_tally + 1
            elif z[0] == 1:
                if z[1] == 1:
                    S1m_tally = S1m_tally + 1
                elif z[1] == 0:
                    S2m_tally = S2m_tally + 1
                else:
                    Hm_tally = Hm_tally + 1
        S1f_tallies.append(S1f_tally)
        Hf_tallies.append(Hf_tally)
        S2f_tallies.append(S2f_tally)
        S1m_tallies.append(S1m_tally)
        Hm_tallies.append(Hm_tally)
        S2m_tallies.append(S2m_tally)
    return(S1f_tallies, Hf_tallies, S2f_tallies, S1m_tallies, Hm_tallies, S2m_tallies)

def plot_variance(gens):
    variances = find_var(gens)
    x = range(len(variances))
    fig, var = plt.subplots()
    var.plot(x, variances)
    var.set_title('variance')
    plt.ylim(0, 0.25)
    
def plot_counts(gens):
    fig, counts = plt.subplots()
    S1fcount, Hfcount, S2fcount, S1mcount, Hmcount, S2mcount = pop_counts(output)
    x1, x2, x3, x4, x5, x6 = range(len(S1fcount)), range(len(Hfcount)), range(len(S2fcount)), range(len(S1mcount)), range(len(Hmcount)), range(len(S2mcount))
    y1, y2, y3, y4, y5, y6 = S1fcount, Hfcount, S2fcount, S1mcount, Hmcount, S2mcount
    counts.plot(x1, y1)
    counts.plot(x2, y2)
    counts.plot(x3, y3)
    counts.plot(x4, y4)
    counts.plot(x5, y5)
    counts.plot(x6, y6)
    counts.legend(['S1f', 'Hf', 'S2f', 'S1m', 'Hm', 'S2m'])    

gens = generations(20, 1000, 1000, 1000, 1000)
plot_variance(gens)
plot_counts(gens)
