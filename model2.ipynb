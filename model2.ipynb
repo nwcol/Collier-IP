import random

def new_population(S1f_init, S1m_init, S2f_init, S2m_init):
    '''generates an initial generation 0 based on initial parameters'''
    gen_0 = []
    for x in range(S1f_init):
        gen_0.append([0, 1, 1])
    for x in range(S1m_init):
        gen_0.append([1, 1, 1])
    for x in range(S2f_init):
        gen_0.append([0, 0, 2])
    for x in range(S2m_init):
        gen_0.append([1, 0, 2])
    return(gen_0)
        
def constant_contribution(gen_g_minus1, S1f_const, S1m_const, S2f_const, S2m_const):
    '''appends constant contributions to gen_g_minus1'''
    for x in range(S1f_const):
        gen_g_minus1.append([0, 1, 1])
    for x in range(S1m_const):
        gen_g_minus1.append([1, 1, 1])
    for x in range(S2f_const):
        gen_g_minus1.append([0, 0, 2])
    for x in range(S2m_const):
        gen_g_minus1.append([1, 0, 2])
    return(gen_g_minus1)

def find_probs_gen1(gen_0):
    '''returns probabilities of matings for gen 1'''
    S1f, S2f, S1m, S2m = 0, 0, 0, 0
    Nf, Nm = 0, 0
    for ind in gen_0:
        if ind[0] == 0:
            Nf = Nf + 1
            if ind[2] == 1:
                S1f = S1f + 1
            elif ind[2] == 2:
                S2f = S2f + 1
        elif ind[0] == 1:
            Nm = Nm + 1
            if ind[2] == 1:
                S1m = S1m + 1
            elif ind[2] == 2:
                S2m = S2m + 1
    s1f, s2f = S1f/Nf, S2f/Nf
    s1m, s2m = S1m/Nm, S2m/Nm
    P11, P12 = s1f * s1m + c11_0, s1f * s2m + c12_0
    P21, P22 = s2f * s1m + c21_0, s2f * s2m + c22_0
    return(P11, P12, P21, P22)

def find_probs(gen_g_minus1):
    '''returns probabilities of matings based on composition of gen g-1'''
    S1f, Hf, S2f, S1m, Hm, S2m = 0, 0, 0, 0, 0, 0
    Nf, Nm = 0, 0
    for ind in gen_g_minus1:
        if ind[0] == 0:
            Nf = Nf + 1
            if ind[2] == 1:
                S1f = S1f + 1
            elif ind[2] == 0:
                Hf = Hf + 1
            elif ind[2] == 2:
                S2f = S2f + 1
        elif ind[0] == 1:
            Nm = Nm + 1
            if ind[2] == 1:
                S1m = S1m + 1
            elif ind[2] == 0:
                Hm = Hm + 1
            elif ind[2] == 2:
                S2m = S2m + 1
    s1f, hf, s2f = S1f/Nf, Hf/Nf, S2f/Nf
    s1m, hm, s2m = S1m/Nm, Hm/Nm, S2m/Nm
    P11, P1h, P12 = s1f * s1m + c11, s1f * hm + c1h, s1f * s2m + c12
    Ph1, Phh, Ph2 = hf * s1m + ch1, hf * hm + chh, hf * s1m + ch2
    P21, P2h, P22 = s2f * s1m + c21, s2f * hm + c2h, s2f * s2m + c22
    return(P11, P1h, P12, Ph1, Phh, Ph2, P21, P2h, P22)

def mate(gen_g_minus1, is_gen_1):
    '''creates a new generation'''
    
    #create a list of males in gen g-1
    gen_g_minus1_males = []
    for ind in gen_g_minus1:
        if ind[2] == 0:
            if ind[0] == 1:
                gen_g_minus1_males.append(ind)
            else:
                pass
        else:
            pass
    
    #define probabilities- gen 1 is a special case with its own prob function
    if is_gen_1 == True:
        P11, P12, P21, P22 = find_probs_gen1(gen_g_minus1)
        P1h, Ph1, Phh, Ph2, P2h = 0, 0, 0, 0, 0
    else:
        P11, P1h, P12, Ph1, Phh, Ph2, P21, P2h, P22 = find_probs(gen_g_minus1)
    
    #the actual mating element
    gen_g = []
    counter = 0
    for ind in gen_g_minus1:
        #if population is not confined, then variance is thrown off by increased population size
        if counter < (N_target / 2):
            if ind[0] == 0:
                counter = counter + 1
                if ind[2] == 1:
                #ind is S1f
                    [mate] = random.choices(['S1m', 'Hm', 'S2m'], weights = (P11, P1h, P12))
                    if mate == 'S1m':
                        for x in range(2):
                            offspring = [random.randint(0, 1), 1, 0]
                            gen_g.append(offspring)
                    elif mate == 'Hm':
                        male_mate = random.choice(gen_g_minus1_males)
                        for x in range(2):
                            offspring = [random.randint(0, 1), (1 + male_mate[1]) / 2, 0]
                            gen_g.append(offspring)
                    elif mate == 'S2m':
                        for x in range(2):
                            offspring = [random.randint(0, 1), 0.5, 0]
                            gen_g.append(offspring)
                elif ind[2] == 0:
                #ind is Hf
                    [mate] = random.choices(['S1m', 'Hm', 'S2m'], weights = (Ph1, Phh, Ph2))
                    if mate == 'S1m':
                        for x in range(2):
                            offspring = [random.randint(0, 1), ind[1] + 1 / 2, 0]
                            gen_g.append(offspring)
                    elif mate == 'Hm':
                        male_mate = random.choice(gen_g_minus1_males)
                        for x in range(2):
                            offspring = [random.randint(0, 1), (ind[1] + male_mate[1]) / 2, 0]
                            gen_g.append(offspring)
                    elif mate == 'S2m':
                        for x in range(2):
                            offspring = [random.randint(0, 1), (ind[1]) / 2, 0]
                            gen_g.append(offspring)
                elif ind[2] == 2:
                #ind is S2f
                    [mate] = random.choices(['S1m', 'Hm', 'S2m'], weights = (P21, P2h, P22))
                    if mate == 'S1m':
                        for x in range(2):
                            offspring = [random.randint(0, 1), 0.5, 0]
                            gen_g.append(offspring)
                    elif mate == 'Hm':
                        male_mate = random.choice(gen_g_minus1_males)
                        for x in range(2):
                            offspring = [random.randint(0, 1), (male_mate[1]) / 2, 0]
                            gen_g.append(offspring)
                    elif mate == 'S2m':
                        for x in range(2):
                            offspring = [random.randint(0, 1), 0, 0]
                            gen_g.append(offspring)
            else:
                pass
        else:
            pass
    return(gen_g)

def generations(g, S1f_init, S1m_init, S2f_init, S2m_init, S1f_const, S1m_const, S2f_const, S2m_const):
    '''produces a list of generations'''
    gens = []
    #generation 0 represents the population immediately upon admixture- it is entirely S1 and S2 in composition
    gen_0 = new_population(S1f_init, S1m_init, S2f_init, S2m_init)
    gens.append(gen_0)
    #generation 1 is a special case where constant admixture is not applied and cij_0 values are used
    gen_g_minus1 = gen_0
    gen_1 = mate(gen_g_minus1, True)
    gens.append(gen_1)
    gen_g_minus1 = gen_1
    #then all subsequent generations are treated the same
    for x in range(g):
        gen_g_minus1 = constant_contribution(gen_g_minus1, S1f_const, S1m_const, S2f_const, S2m_const)
        #this is useful because it prevents new contributions from being excluded by being at the end of the list
        random.shuffle(gen_g_minus1)
        del (gen_g_minus1[N_target:])
        gen_g = mate(gen_g_minus1, False)
        gens.append(gen_g)
        gen_g_minus1 = gen_g
    #this is necessary because (for some reason? variance drops in the last generation in const. cont cases-
    #this merits investigation. also, range is g rather than g-1 because of this)
    del (gens[-1])
    return(gens)
                  
#Definitions of Constants:

#values for generation 0
c11_0, c12_0 = 0, 0
c21_0, c22_0 = 0, 0

#values for subsequent generations
c11, c1h, c12 = 0, 0, 0
ch1, chh, ch2 = 0, 0, 0
c21, c2h, c22 = 0, 0, 0

g = 20

S1f_init = 1000
S1m_init = 1000
S2f_init = 1000
S2m_init = 1000

N_target = S1f_init + S1m_init + S2f_init + S2m_init

S1f_const = 0
S1m_const = 0
S2f_const = 0
S2m_const = 0

N_const = S1f_const + S1m_const + S2f_const + S2m_const
    
gens = generations(g, S1f_init, S1m_init, S2f_init, S2m_init, S1f_const, S1m_const, S2f_const, S2m_const)
%store gens
N = S1f_init + S1m_init + S2f_init + S2m_init
N_const = S1f_const + S1m_const + S2f_const + S2m_const
%store N
%store N_const
%store c11_0
